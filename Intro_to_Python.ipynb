{
 "cells": [
  {
   "cell_type": "code",
   "execution_count": null,
   "metadata": {},
   "outputs": [],
   "source": [
    "my_variable = 32432"
   ]
  },
  {
   "cell_type": "code",
   "execution_count": null,
   "metadata": {},
   "outputs": [],
   "source": [
    "type(my_variable)"
   ]
  },
  {
   "cell_type": "code",
   "execution_count": null,
   "metadata": {},
   "outputs": [],
   "source": [
    "type(32432 / 3)"
   ]
  },
  {
   "cell_type": "code",
   "execution_count": null,
   "metadata": {},
   "outputs": [],
   "source": [
    "type(\"here's my string\")\n",
    "my_string = \"lakdjreow390q43q09uf 032q3qe jflaj )#@($#@)( )\"\n",
    "\n",
    "\n"
   ]
  },
  {
   "cell_type": "code",
   "execution_count": null,
   "metadata": {},
   "outputs": [],
   "source": [
    "my_string[1:10]"
   ]
  },
  {
   "cell_type": "code",
   "execution_count": null,
   "metadata": {},
   "outputs": [],
   "source": [
    "\"\"\"allows\n",
    "me\n",
    "to use\n",
    "multiple lines\n",
    "in my\n",
    "string\n",
    "\"\"\""
   ]
  },
  {
   "cell_type": "code",
   "execution_count": null,
   "metadata": {},
   "outputs": [],
   "source": [
    "my_list = ['some string', my_string, 2034983209, my_variable]"
   ]
  },
  {
   "cell_type": "code",
   "execution_count": null,
   "metadata": {},
   "outputs": [],
   "source": [
    "my_list.append('a new string')\n",
    "phone_number = '19999999999'\n",
    "my_list.append(phone_number)"
   ]
  },
  {
   "cell_type": "code",
   "execution_count": null,
   "metadata": {},
   "outputs": [],
   "source": [
    "my_list[-1][1:4] = 845\n",
    "my_list[-1] = '1845999999'"
   ]
  },
  {
   "cell_type": "code",
   "execution_count": null,
   "metadata": {},
   "outputs": [],
   "source": [
    "my_list[1] = phone_number\n",
    "my_list"
   ]
  },
  {
   "cell_type": "code",
   "execution_count": null,
   "metadata": {},
   "outputs": [],
   "source": [
    "my_tuple = ('some string', my_string, 20349853209, my_variable)"
   ]
  },
  {
   "cell_type": "code",
   "execution_count": null,
   "metadata": {},
   "outputs": [],
   "source": [
    "my_tuple.append(phone_number)"
   ]
  },
  {
   "cell_type": "code",
   "execution_count": null,
   "metadata": {},
   "outputs": [],
   "source": [
    "my_tuple[1] = phone_number"
   ]
  },
  {
   "cell_type": "code",
   "execution_count": null,
   "metadata": {},
   "outputs": [],
   "source": [
    "my_tuple = ('some string', phone_number, 20349853209, my_variable, 'some string', phone_number)"
   ]
  },
  {
   "cell_type": "code",
   "execution_count": null,
   "metadata": {},
   "outputs": [],
   "source": [
    "set(my_tuple)"
   ]
  },
  {
   "cell_type": "code",
   "execution_count": null,
   "metadata": {},
   "outputs": [],
   "source": [
    "num_list = [2, 34, 90, 2, 3, 5, 1, 634, 643, 23, 90]\n",
    "set(num_list)"
   ]
  },
  {
   "cell_type": "markdown",
   "metadata": {},
   "source": [
    "[] -> list: mutable & iterable\n",
    "() -> tuple: immutable & iterable\n",
    "{} -> dictionary (dict): mutable & iterable"
   ]
  },
  {
   "cell_type": "code",
   "execution_count": null,
   "metadata": {},
   "outputs": [],
   "source": [
    "my_dict = {\"key\": \"value\"}"
   ]
  },
  {
   "cell_type": "code",
   "execution_count": null,
   "metadata": {},
   "outputs": [],
   "source": [
    "my_dict['key']"
   ]
  },
  {
   "cell_type": "code",
   "execution_count": null,
   "metadata": {},
   "outputs": [],
   "source": [
    "my_dict = {'name': {'first_name': 'John', 'last_name': 'Droescher'}}"
   ]
  },
  {
   "cell_type": "code",
   "execution_count": null,
   "metadata": {},
   "outputs": [],
   "source": [
    "my_dict['name']['last_name']"
   ]
  },
  {
   "cell_type": "code",
   "execution_count": null,
   "metadata": {},
   "outputs": [],
   "source": [
    "len(range(50))\n",
    "\n",
    "# for letter in my_string:\n",
    "#     print(letter)\n",
    "#     print(letter * 2)\n",
    "#     print(letter.upper())"
   ]
  },
  {
   "cell_type": "code",
   "execution_count": null,
   "metadata": {},
   "outputs": [],
   "source": [
    "# Define base variables\n",
    "bal = 10000\n",
    "deposit = 22500\n",
    "\n",
    "ret_age = 50\n",
    "cur_age = 21\n",
    "\n",
    "# Run loop for each year\n",
    "for year in range(ret_age - cur_age):\n",
    "  bal = bal + deposit\n",
    "\n",
    "# Output the results\n",
    "print(bal)"
   ]
  },
  {
   "cell_type": "code",
   "execution_count": null,
   "metadata": {},
   "outputs": [],
   "source": [
    "acct_bal = 0\n",
    "deposit = 22500\n",
    "cur_age = 22\n",
    "ret_age = 67\n",
    "salary = 60000\n",
    "matching = 0\n",
    "\n",
    "for year in range(cur_age, ret_age):\n",
    "    acct_bal = acct_bal + deposit\n",
    "\n",
    "acct_bal"
   ]
  },
  {
   "cell_type": "code",
   "execution_count": null,
   "metadata": {},
   "outputs": [],
   "source": [
    "%%timeit\n",
    "acct_bal = 0\n",
    "deposit = 22500\n",
    "cur_age = 22\n",
    "ret_age = 67\n",
    "salary = 60000\n",
    "matching = salary * 0.05\n",
    "\n",
    "for year in range(cur_age, ret_age):\n",
    "    acct_bal = acct_bal + deposit + matching"
   ]
  },
  {
   "cell_type": "code",
   "execution_count": 23,
   "metadata": {},
   "outputs": [
    {
     "data": {
      "text/plain": [
       "1358662.1033034741"
      ]
     },
     "execution_count": 23,
     "metadata": {},
     "output_type": "execute_result"
    }
   ],
   "source": [
    "acct_bal = int(input('What is your current account balance? '))\n",
    "deposit = int(input('How much will you contribute every year? '))\n",
    "cur_age = 22\n",
    "ret_age = 67\n",
    "\n",
    "salary = 60000\n",
    "rf_rate = 0.025\n",
    "match_rate = 0.05\n",
    "matching = 0\n",
    "\n",
    "for year in range(cur_age, ret_age):\n",
    "    salary *= 1 + rf_rate\n",
    "    matching = salary * match_rate\n",
    "    acct_bal += deposit + matching\n",
    "\n",
    "acct_bal"
   ]
  },
  {
   "cell_type": "code",
   "execution_count": 22,
   "metadata": {},
   "outputs": [
    {
     "name": "stdout",
     "output_type": "stream",
     "text": [
      "100774.91107785924\n"
     ]
    }
   ],
   "source": [
    "salary = 60000\n",
    "acct_bal = 0\n",
    "\n",
    "while salary < 100000:\n",
    "    salary *= 1 + rf_rate\n",
    "    matching = salary * match_rate\n",
    "    acct_bal += deposit + matching\n",
    "    \n",
    "print(salary)"
   ]
  },
  {
   "cell_type": "code",
   "execution_count": 6,
   "metadata": {},
   "outputs": [],
   "source": [
    "acct_bal = 0\n",
    "deposit = 22500\n",
    "cur_age = 22\n",
    "ret_age = 67\n",
    "salary = 60000\n",
    "matching = salary * 0.05\n",
    "\n",
    "for year in range (cur_age, ret_age):\n",
    "        \n",
    "        acct_bal = acct_bal + deposit + matching\n",
    "\n"
   ]
  },
  {
   "cell_type": "code",
   "execution_count": 11,
   "metadata": {},
   "outputs": [
    {
     "name": "stdout",
     "output_type": "stream",
     "text": [
      "9.46 µs ± 47.4 ns per loop (mean ± std. dev. of 7 runs, 100,000 loops each)\n"
     ]
    }
   ],
   "source": [
    "#ForLoop\n",
    "acct_bal = int(input(\"What is your current account balance?\"))\n",
    "deposit = int(input(\"how much will you contribute every year?\"))\n",
    "cur_age = 22\n",
    "ret_age = 67\n",
    "\n",
    "salary = 60000\n",
    "rf_rate = 0.025\n",
    "match_rate = 0.05\n",
    "matching = 0\n",
    "\n",
    "for year in range (cur_age, ret_age):\n",
    "        salary *= 1 + rf_rate\n",
    "        matching = salary * match_rate\n",
    "        acct_bal += deposit + matching\n",
    "\n",
    "acct_bal"
   ]
  },
  {
   "cell_type": "code",
   "execution_count": 16,
   "metadata": {},
   "outputs": [
    {
     "name": "stdout",
     "output_type": "stream",
     "text": [
      "100774.91107785924\n"
     ]
    }
   ],
   "source": [
    "#WhileLoop\n",
    "#rewatch the video from 50min to learn about the last part of the Forloop\n",
    "salary = 60000\n",
    "acct_bal = 0\n",
    "rf_rate = 0.025\n",
    "match_rate = 0.05\n",
    "matching = 0\n",
    "\n",
    "while salary < 100000:\n",
    "    salary *= 1 + rf_rate\n",
    "    matching = salary *match_rate\n",
    "    acct_bal += deposit + matching\n",
    "\n",
    "print(salary)"
   ]
  },
  {
   "cell_type": "code",
   "execution_count": 2,
   "metadata": {},
   "outputs": [
    {
     "ename": "ValueError",
     "evalue": "could not convert string to float: ''",
     "output_type": "error",
     "traceback": [
      "\u001b[1;31m---------------------------------------------------------------------------\u001b[0m",
      "\u001b[1;31mValueError\u001b[0m                                Traceback (most recent call last)",
      "\u001b[1;32mc:\\Users\\LxzyMxnk\\Downloads\\Intro_to_Python.ipynb Cell 31\u001b[0m line \u001b[0;36m2\n\u001b[0;32m      <a href='vscode-notebook-cell:/c%3A/Users/LxzyMxnk/Downloads/Intro_to_Python.ipynb#X42sZmlsZQ%3D%3D?line=0'>1</a>\u001b[0m \u001b[39m#ForLoop\u001b[39;00m\n\u001b[1;32m----> <a href='vscode-notebook-cell:/c%3A/Users/LxzyMxnk/Downloads/Intro_to_Python.ipynb#X42sZmlsZQ%3D%3D?line=1'>2</a>\u001b[0m acct_bal \u001b[39m=\u001b[39m \u001b[39mfloat\u001b[39;49m(\u001b[39minput\u001b[39;49m(\u001b[39m\"\u001b[39;49m\u001b[39mWhat your current account balance?\u001b[39;49m\u001b[39m\"\u001b[39;49m))\n\u001b[0;32m      <a href='vscode-notebook-cell:/c%3A/Users/LxzyMxnk/Downloads/Intro_to_Python.ipynb#X42sZmlsZQ%3D%3D?line=2'>3</a>\u001b[0m deposit \u001b[39m=\u001b[39m \u001b[39mfloat\u001b[39m(\u001b[39minput\u001b[39m(\u001b[39m\"\u001b[39m\u001b[39mWhat is your yearly contribution?\u001b[39m\u001b[39m\"\u001b[39m))\n\u001b[0;32m      <a href='vscode-notebook-cell:/c%3A/Users/LxzyMxnk/Downloads/Intro_to_Python.ipynb#X42sZmlsZQ%3D%3D?line=3'>4</a>\u001b[0m cur_age \u001b[39m=\u001b[39m \u001b[39mint\u001b[39m(\u001b[39minput\u001b[39m(\u001b[39m\"\u001b[39m\u001b[39mEnter your age:\u001b[39m\u001b[39m\"\u001b[39m))\n",
      "\u001b[1;31mValueError\u001b[0m: could not convert string to float: ''"
     ]
    }
   ],
   "source": [
    "#ForLoop\n",
    "acct_bal = float(input(\"What your current account balance?\"))\n",
    "deposit = float(input(\"What is your yearly contribution?\"))\n",
    "cur_age = int(input(\"Enter your age:\"))\n",
    "ret_age = int(input(\"Enter your retirement age:\"))\n",
    "\n",
    "salary = float(input(\"What is your current salary?\"))\n",
    "rf_rate = float(input(\"What is the annual raise percentage?\"))\n",
    "match_rate = float(input(\"What is your employer's match rate?\"))\n",
    "\n",
    "investment_return = 0.14\n",
    "matching = 0\n",
    "\n",
    "for year in range (cur_age, ret_age):\n",
    "        salary *= 1 + rf_rate\n",
    "        matching = salary * match_rate\n",
    "        acct_bal += deposit + matching\n",
    "        acct_bal *= (1 + investment_return)\n",
    "\n",
    "print(f\"At age {ret_age}, your account balance will be ${acct_bal:,.2f}.\")"
   ]
  },
  {
   "cell_type": "code",
   "execution_count": null,
   "metadata": {},
   "outputs": [],
   "source": [
    "#WhileLoop\n",
    "#rewatch the video from 50min to learn about the last part of the Forloop\n",
    "salary = 60000\n",
    "acct_bal = 0\n",
    "rf_rate = 0.025\n",
    "match_rate = 0.05\n",
    "matching = 0\n",
    "\n",
    "while salary < 100000:\n",
    "    salary *= 1 + rf_rate\n",
    "    matching = salary *match_rate\n",
    "    acct_bal += deposit + matching\n",
    "\n",
    "print(salary)"
   ]
  },
  {
   "cell_type": "markdown",
   "metadata": {},
   "source": [
    "Homework:\n",
    "1) Convert variables to dynamic inputs\n",
    "2) Add investment returns (assume 14% annual return) to both loops\n",
    "3) For While loop  \n",
    "    3a) estimate desired retirement balance  \n",
    "    3b) calculate what age you can retire at  \n",
    "    "
   ]
  },
  {
   "cell_type": "code",
   "execution_count": 3,
   "metadata": {},
   "outputs": [
    {
     "name": "stdout",
     "output_type": "stream",
     "text": [
      "At age 67, your account balance will be $52,721,314.76.\n"
     ]
    }
   ],
   "source": [
    "#ForLoop\n",
    "acct_bal = float(input(\"What your current account balance?\"))\n",
    "deposit = float(input(\"What is your yearly contribution?\"))\n",
    "cur_age = int(input(\"Enter your age:\"))\n",
    "ret_age = int(input(\"Enter your retirement age:\"))\n",
    "\n",
    "salary = float(input(\"What is your current salary?\"))\n",
    "rf_rate = float(input(\"What is the annual raise percentage?\"))\n",
    "match_rate = float(input(\"What is your employer's match rate?\"))\n",
    "\n",
    "investment_return = 0.14\n",
    "matching = 0\n",
    "\n",
    "for year in range (cur_age, ret_age):\n",
    "        salary *= 1 + rf_rate\n",
    "        matching = salary * match_rate\n",
    "        acct_bal += deposit + matching\n",
    "        acct_bal *= (1 + investment_return)\n",
    "\n",
    "print(f\"At age {ret_age}, your account balance will be ${acct_bal:,.2f}.\")"
   ]
  },
  {
   "cell_type": "code",
   "execution_count": 13,
   "metadata": {},
   "outputs": [
    {
     "name": "stdout",
     "output_type": "stream",
     "text": [
      "Your projected salary after 45 years wil be: $ 102406.76\n",
      "You can retire at age 67 with an account balance of: $394589.12\n"
     ]
    }
   ],
   "source": [
    "#WhileLoop\n",
    "\n",
    "salary = float(input(\"What is your current salary?\"))\n",
    "desired_bal = float(input(\"What is your desired retirement balance?\"))\n",
    "cur_age = int(input(\"Enter your age:\"))\n",
    "\n",
    "acct_bal = 0\n",
    "rf_rate = 0.025\n",
    "match_rate = 0.05\n",
    "annual_return = 0.14\n",
    "matching = 0\n",
    "years = 45\n",
    "\n",
    "while acct_bal < desired_bal and salary < 100000:\n",
    "\n",
    "    salary *= 1 + rf_rate\n",
    "    deposit = 0.15 * salary\n",
    "    matching = salary *match_rate\n",
    "\n",
    "    acct_bal += deposit + matching\n",
    "    acct_bal += acct_bal * annual_return\n",
    "\n",
    "    year += 1\n",
    "\n",
    "retirement_age = cur_age + years\n",
    "\n",
    "print(f\"Your projected salary after {years} years will be: ${salary: .2f}\")\n",
    "print(f\"You can retire at age {retirement_age} with an account balance of: ${acct_bal:.2f}\")"
   ]
  }
 ],
 "metadata": {
  "kernelspec": {
   "display_name": "Python 3",
   "language": "python",
   "name": "python3"
  },
  "language_info": {
   "codemirror_mode": {
    "name": "ipython",
    "version": 3
   },
   "file_extension": ".py",
   "mimetype": "text/x-python",
   "name": "python",
   "nbconvert_exporter": "python",
   "pygments_lexer": "ipython3",
   "version": "3.11.6"
  }
 },
 "nbformat": 4,
 "nbformat_minor": 2
}
